{
 "cells": [
  {
   "cell_type": "code",
   "execution_count": 39,
   "id": "e4ddd27a",
   "metadata": {},
   "outputs": [],
   "source": [
    "import findspark\n",
    "findspark.init()"
   ]
  },
  {
   "cell_type": "code",
   "execution_count": 40,
   "id": "4af6b907",
   "metadata": {},
   "outputs": [],
   "source": [
    "import pyspark # only run after findspark.init()\n",
    "from pyspark.sql import SparkSession\n",
    "\n",
    "\n",
    "spark = SparkSession.builder.appName('Aviation Accident').getOrCreate()"
   ]
  },
  {
   "cell_type": "code",
   "execution_count": 41,
   "id": "feb57ebe",
   "metadata": {},
   "outputs": [
    {
     "data": {
      "text/html": [
       "\n",
       "            <div>\n",
       "                <p><b>SparkSession - in-memory</b></p>\n",
       "                \n",
       "        <div>\n",
       "            <p><b>SparkContext</b></p>\n",
       "\n",
       "            <p><a href=\"http://HollhurWharsheyi.mshome.net:4040\">Spark UI</a></p>\n",
       "\n",
       "            <dl>\n",
       "              <dt>Version</dt>\n",
       "                <dd><code>v3.2.2</code></dd>\n",
       "              <dt>Master</dt>\n",
       "                <dd><code>local[*]</code></dd>\n",
       "              <dt>AppName</dt>\n",
       "                <dd><code>Aviation Accident</code></dd>\n",
       "            </dl>\n",
       "        </div>\n",
       "        \n",
       "            </div>\n",
       "        "
      ],
      "text/plain": [
       "<pyspark.sql.session.SparkSession at 0x200ac83dd60>"
      ]
     },
     "execution_count": 41,
     "metadata": {},
     "output_type": "execute_result"
    }
   ],
   "source": [
    "spark"
   ]
  },
  {
   "cell_type": "code",
   "execution_count": 42,
   "id": "9395a7a4",
   "metadata": {},
   "outputs": [],
   "source": [
    "df_spypark=spark.read.csv('AviationData.csv', inferSchema=True,header=True)"
   ]
  },
  {
   "cell_type": "code",
   "execution_count": 43,
   "id": "0dc48603",
   "metadata": {},
   "outputs": [
    {
     "name": "stdout",
     "output_type": "stream",
     "text": [
      "+--------------+------------------+---------------+----------+----------------+-------------+---------+----------+------------+------------------+---------------+---------------+-----------------+-------------------+-----------------+------------------+-------------+-----------------+-------------+--------------------+--------+-----------------+-----------+--------------------+----------------------+--------------------+---------------+-----------------+---------------------+--------------+----------------+\n",
      "|      Event.Id|Investigation.Type|Accident.Number|Event.Date|        Location|      Country| Latitude| Longitude|Airport.Code|      Airport.Name|Injury.Severity|Aircraft.damage|Aircraft.Category|Registration.Number|             Make|             Model|Amateur.Built|Number.of.Engines|  Engine.Type|     FAR.Description|Schedule|Purpose.of.flight|Air.carrier|Total.Fatal.Injuries|Total.Serious.Injuries|Total.Minor.Injuries|Total.Uninjured|Weather.Condition|Broad.phase.of.flight| Report.Status|Publication.Date|\n",
      "+--------------+------------------+---------------+----------+----------------+-------------+---------+----------+------------+------------------+---------------+---------------+-----------------+-------------------+-----------------+------------------+-------------+-----------------+-------------+--------------------+--------+-----------------+-----------+--------------------+----------------------+--------------------+---------------+-----------------+---------------------+--------------+----------------+\n",
      "|20001218X45444|          Accident|     SEA87LA080|1948-10-24| MOOSE CREEK, ID|United States|     null|      null|        null|              null|       Fatal(2)|      Destroyed|             null|             NC6404|          Stinson|             108-3|           No|                1|Reciprocating|                null|    null|         Personal|       null|                   2|                     0|                   0|              0|              UNK|               Cruise|Probable Cause|            null|\n",
      "|20001218X45447|          Accident|     LAX94LA336|1962-07-19|  BRIDGEPORT, CA|United States|     null|      null|        null|              null|       Fatal(4)|      Destroyed|             null|             N5069P|            Piper|          PA24-180|           No|                1|Reciprocating|                null|    null|         Personal|       null|                   4|                     0|                   0|              0|              UNK|              Unknown|Probable Cause|      19-09-1996|\n",
      "|20061025X01555|          Accident|     NYC07LA005|1974-08-30|   Saltville, VA|United States|36.922223|-81.878056|        null|              null|       Fatal(3)|      Destroyed|             null|             N5142R|           Cessna|              172M|           No|                1|Reciprocating|                null|    null|         Personal|       null|                   3|                  null|                null|           null|              IMC|               Cruise|Probable Cause|      26-02-2007|\n",
      "|20001218X45448|          Accident|     LAX96LA321|1977-06-19|      EUREKA, CA|United States|     null|      null|        null|              null|       Fatal(2)|      Destroyed|             null|             N1168J|         Rockwell|               112|           No|                1|Reciprocating|                null|    null|         Personal|       null|                   2|                     0|                   0|              0|              IMC|               Cruise|Probable Cause|      12-09-2000|\n",
      "|20041105X01764|          Accident|     CHI79FA064|1979-08-02|      Canton, OH|United States|     null|      null|        null|              null|       Fatal(1)|      Destroyed|             null|              N15NY|           Cessna|               501|           No|             null|         null|                null|    null|         Personal|       null|                   1|                     2|                null|              0|              VMC|             Approach|Probable Cause|      16-04-1980|\n",
      "|20170710X52551|          Accident|     NYC79AA106|1979-09-17|      BOSTON, MA|United States|42.445277|-70.758333|        null|               N/A|      Non-Fatal|    Substantial|         Airplane|             CF-TLU|Mcdonnell Douglas|               DC9|           No|                2|    Turbo Fan|   Part 129: Foreign|    SCHD|             null| Air Canada|                null|                  null|                   1|             44|              VMC|                Climb|Probable Cause|      19-09-2017|\n",
      "|20001218X45446|          Accident|     CHI81LA106|1981-08-01|      COTTON, MN|United States|     null|      null|        null|              null|       Fatal(4)|      Destroyed|             null|             N4988E|           Cessna|               180|           No|                1|Reciprocating|                null|    null|         Personal|       null|                   4|                     0|                   0|              0|              IMC|              Unknown|Probable Cause|      06-11-2001|\n",
      "|20020909X01562|          Accident|     SEA82DA022|1982-01-01|     PULLMAN, WA|United States|     null|      null|        null|BLACKBURN AG STRIP|      Non-Fatal|    Substantial|         Airplane|             N2482N|           Cessna|               140|           No|                1|Reciprocating|Part 91: General ...|    null|         Personal|       null|                   0|                     0|                   0|              2|              VMC|              Takeoff|Probable Cause|      01-01-1982|\n",
      "|20020909X01561|          Accident|     NYC82DA015|1982-01-01|EAST HANOVER, NJ|United States|     null|      null|         N58|           HANOVER|      Non-Fatal|    Substantial|         Airplane|             N7967Q|           Cessna|              401B|           No|                2|Reciprocating|Part 91: General ...|    null|         Business|       null|                   0|                     0|                   0|              2|              IMC|              Landing|Probable Cause|      01-01-1982|\n",
      "|20020909X01560|          Accident|     MIA82DA029|1982-01-01|JACKSONVILLE, FL|United States|     null|      null|         JAX| JACKSONVILLE INTL|      Non-Fatal|    Substantial|             null|             N3906K|   North American|      NAVION L-17B|           No|                1|Reciprocating|                null|    null|         Personal|       null|                   0|                     0|                   3|              0|              IMC|               Cruise|Probable Cause|      01-01-1982|\n",
      "|20020909X01559|          Accident|     FTW82DA034|1982-01-01|       HOBBS, NM|United States|     null|      null|        null|              null|      Non-Fatal|    Substantial|             null|             N44832|            Piper|         PA-28-161|           No|                1|Reciprocating|                null|    null|         Personal|       null|                   0|                     0|                   0|              1|              VMC|             Approach|Probable Cause|      01-01-1982|\n",
      "|20020909X01558|          Accident|     ATL82DKJ10|1982-01-01|    TUSKEGEE, AL|United States|     null|      null|        null|          TUSKEGEE|      Non-Fatal|    Substantial|             null|             N4275S|            Beech|              V35B|           No|                1|Reciprocating|                null|    null|         Personal|       null|                   0|                     0|                   0|              1|              VMC|              Landing|Probable Cause|      01-01-1982|\n",
      "|20020917X02148|          Accident|     FTW82FRJ07|1982-01-02|       HOMER, LA|United States|     null|      null|        null|              null|      Non-Fatal|      Destroyed|         Airplane|             N14779|         Bellanca|            17-30A|           No|                1|Reciprocating|Part 91: General ...|    null|         Personal|       null|                   0|                     0|                   1|              0|              IMC|               Cruise|Probable Cause|      02-01-1983|\n",
      "|20020917X02134|          Accident|     FTW82FRA14|1982-01-02|      HEARNE, TX|United States|     null|      null|         T72|  HEARNE MUNICIPAL|       Fatal(1)|      Destroyed|         Airplane|             N758SK|           Cessna|             R172K|           No|                1|Reciprocating|Part 91: General ...|    null|         Personal|       null|                   1|                     0|                   0|              0|              IMC|              Takeoff|Probable Cause|      02-01-1983|\n",
      "|20020917X02119|          Accident|     FTW82FPJ10|1982-01-02|   CHICKASHA, OK|United States|     null|      null|        null|              null|       Fatal(1)|      Destroyed|         Airplane|             N4876K|           Navion|                 A|           No|                1|Reciprocating|Part 91: General ...|    null|         Personal|       null|                   1|                     0|                   0|              0|              IMC|               Cruise|Probable Cause|      02-01-1983|\n",
      "|20020917X02117|          Accident|     FTW82FPG08|1982-01-02| LITTLE ROCK, AR|United States|     null|      null|        null|              null|       Fatal(2)|      Destroyed|         Airplane|             N9779L|            Beech|                19|           No|                1|Reciprocating|Part 91: General ...|    null|         Personal|       null|                   2|                     0|                   0|              0|              IMC|               Cruise|Probable Cause|      02-01-1983|\n",
      "|20020917X01962|          Accident|     DEN82DTM08|1982-01-02|      MIDWAY, UT|United States|     null|      null|        null|       FIELD RANCH|      Non-Fatal|      Destroyed|       Helicopter|             N51735|          Enstrom|              280C|           No|                1|Reciprocating|Part 91: General ...|    null|         Personal|       null|                   0|                     0|                   0|              1|              IMC|                 Taxi|Probable Cause|      02-01-1983|\n",
      "|20020917X01656|          Accident|     ANC82FAG14|1982-01-02|     SKWENTA, AK|United States|     null|      null|        null|              null|       Fatal(3)|      Destroyed|         Airplane|             N7641A|           Cessna|               180|           No|                1|Reciprocating|Part 91: General ...|    null|         Personal|       null|                   3|                     0|                   0|              0|              VMC|              Unknown|Probable Cause|      02-01-1983|\n",
      "|20020917X02481|          Accident|     NYC82DA016|1982-01-02|     GALETON, PA|United States|     null|      null|         5G6|    CHERRY SPRINGS|      Non-Fatal|    Substantial|         Airplane|             N25084|           Cessna|               172|           No|                1|Reciprocating|Part 91: General ...|    null|         Personal|       null|                   0|                     0|                   0|              1|              VMC|                 Taxi|Probable Cause|      02-01-1983|\n",
      "|20020917X02339|          Accident|     MIA82DA028|1982-01-02|       MIAMI, FL|United States|     null|      null|        null|              null|      Non-Fatal|    Substantial|       Helicopter|              N23BS|            Smith|WCS-222 (BELL 47G)|           No|                1|Reciprocating|Part 91: General ...|    null|         Personal|       null|                   0|                     0|                   0|              2|              VMC|               Cruise|Probable Cause|      02-01-1983|\n",
      "+--------------+------------------+---------------+----------+----------------+-------------+---------+----------+------------+------------------+---------------+---------------+-----------------+-------------------+-----------------+------------------+-------------+-----------------+-------------+--------------------+--------+-----------------+-----------+--------------------+----------------------+--------------------+---------------+-----------------+---------------------+--------------+----------------+\n",
      "only showing top 20 rows\n",
      "\n"
     ]
    }
   ],
   "source": [
    "df_spypark.show()"
   ]
  },
  {
   "cell_type": "code",
   "execution_count": 44,
   "id": "fbfae2b5",
   "metadata": {},
   "outputs": [
    {
     "data": {
      "text/plain": [
       "['Event.Id',\n",
       " 'Investigation.Type',\n",
       " 'Accident.Number',\n",
       " 'Event.Date',\n",
       " 'Location',\n",
       " 'Country',\n",
       " 'Latitude',\n",
       " 'Longitude',\n",
       " 'Airport.Code',\n",
       " 'Airport.Name',\n",
       " 'Injury.Severity',\n",
       " 'Aircraft.damage',\n",
       " 'Aircraft.Category',\n",
       " 'Registration.Number',\n",
       " 'Make',\n",
       " 'Model',\n",
       " 'Amateur.Built',\n",
       " 'Number.of.Engines',\n",
       " 'Engine.Type',\n",
       " 'FAR.Description',\n",
       " 'Schedule',\n",
       " 'Purpose.of.flight',\n",
       " 'Air.carrier',\n",
       " 'Total.Fatal.Injuries',\n",
       " 'Total.Serious.Injuries',\n",
       " 'Total.Minor.Injuries',\n",
       " 'Total.Uninjured',\n",
       " 'Weather.Condition',\n",
       " 'Broad.phase.of.flight',\n",
       " 'Report.Status',\n",
       " 'Publication.Date']"
      ]
     },
     "execution_count": 44,
     "metadata": {},
     "output_type": "execute_result"
    }
   ],
   "source": [
    "df_spypark.columns"
   ]
  },
  {
   "cell_type": "code",
   "execution_count": 45,
   "id": "1e2f6dde",
   "metadata": {},
   "outputs": [
    {
     "name": "stdout",
     "output_type": "stream",
     "text": [
      "root\n",
      " |-- Event.Id: string (nullable = true)\n",
      " |-- Investigation.Type: string (nullable = true)\n",
      " |-- Accident.Number: string (nullable = true)\n",
      " |-- Event.Date: string (nullable = true)\n",
      " |-- Location: string (nullable = true)\n",
      " |-- Country: string (nullable = true)\n",
      " |-- Latitude: string (nullable = true)\n",
      " |-- Longitude: string (nullable = true)\n",
      " |-- Airport.Code: string (nullable = true)\n",
      " |-- Airport.Name: string (nullable = true)\n",
      " |-- Injury.Severity: string (nullable = true)\n",
      " |-- Aircraft.damage: string (nullable = true)\n",
      " |-- Aircraft.Category: string (nullable = true)\n",
      " |-- Registration.Number: string (nullable = true)\n",
      " |-- Make: string (nullable = true)\n",
      " |-- Model: string (nullable = true)\n",
      " |-- Amateur.Built: string (nullable = true)\n",
      " |-- Number.of.Engines: integer (nullable = true)\n",
      " |-- Engine.Type: string (nullable = true)\n",
      " |-- FAR.Description: string (nullable = true)\n",
      " |-- Schedule: string (nullable = true)\n",
      " |-- Purpose.of.flight: string (nullable = true)\n",
      " |-- Air.carrier: string (nullable = true)\n",
      " |-- Total.Fatal.Injuries: integer (nullable = true)\n",
      " |-- Total.Serious.Injuries: integer (nullable = true)\n",
      " |-- Total.Minor.Injuries: integer (nullable = true)\n",
      " |-- Total.Uninjured: integer (nullable = true)\n",
      " |-- Weather.Condition: string (nullable = true)\n",
      " |-- Broad.phase.of.flight: string (nullable = true)\n",
      " |-- Report.Status: string (nullable = true)\n",
      " |-- Publication.Date: string (nullable = true)\n",
      "\n"
     ]
    }
   ],
   "source": [
    "df_spypark.printSchema()"
   ]
  },
  {
   "cell_type": "code",
   "execution_count": 46,
   "id": "a0f372e3",
   "metadata": {},
   "outputs": [
    {
     "name": "stdout",
     "output_type": "stream",
     "text": [
      "+-------+--------------------+--------------------+--------------------+-----------+--------------------+--------------------+--------------------+--------------------+--------------------+-------------+---------------+---------------+-----------------+-------------------+--------------------+------------------+-------------+-------------------+-----------+------------------+--------+-----------------+--------------------+--------------------+----------------------+--------------------+------------------+-----------------+---------------------+--------------------+--------------------+\n",
      "|summary|            Event.Id|  Investigation.Type|     Accident.Number| Event.Date|            Location|             Country|            Latitude|           Longitude|        Airport.Code| Airport.Name|Injury.Severity|Aircraft.damage|Aircraft.Category|Registration.Number|                Make|             Model|Amateur.Built|  Number.of.Engines|Engine.Type|   FAR.Description|Schedule|Purpose.of.flight|         Air.carrier|Total.Fatal.Injuries|Total.Serious.Injuries|Total.Minor.Injuries|   Total.Uninjured|Weather.Condition|Broad.phase.of.flight|       Report.Status|    Publication.Date|\n",
      "+-------+--------------------+--------------------+--------------------+-----------+--------------------+--------------------+--------------------+--------------------+--------------------+-------------+---------------+---------------+-----------------+-------------------+--------------------+------------------+-------------+-------------------+-----------+------------------+--------+-----------------+--------------------+--------------------+----------------------+--------------------+------------------+-----------------+---------------------+--------------------+--------------------+\n",
      "|  count|               92725|               87394|               87337|      87310|               87242|               87062|               33078|               33067|               49541|        52055|          86399|          84272|            30783|              85965|               87220|             87193|        87180|              81533|      81391|             30458|   12330|            81493|               15973|               75881|                 74772|               75349|             81370|            83304|                61724|               82071|               68286|\n",
      "|   mean|2.019854604701478...|                null|                null|       null|                null|                null|  2500.7136295298783|   26537.96096411938|            Infinity|          7.0|           null|           null|             null|             7791.5|            Infinity|          Infinity|         null| 1.1471306096917813|       null|  96.4336739856319|    null|             null|                null|  0.6527721036886704|    0.2809206654897555| 0.36081434391962736| 5.311847118102495|             null|                 null|                null|                null|\n",
      "| stddev|4.599042470567544...|                null|                null|       null|                null|                null|  107616.22640525011|  1200881.0173173093|                 NaN|          0.0|           null|           null|             null|  10858.40259890929|                 NaN|               NaN|         null|0.44708496724968727|       null|14.227767655402499|    null|             null|                null|   5.521338344432956|    1.5574755368967517|  2.2577206180876837|27.899156136720332|             null|                 null|                null|                null|\n",
      "|    min|   (55-61) 3364-8838| (2) the failure ...| (2) the G650 fli...| 71.615-600| and (2) ATAC's o...| although the win...| potential hazard...| and appropriate ...| the design of th...| \"ELOY \"\"Y\"\"\"|          Fatal|      Destroyed|         Airplane|              00SLB|107.5 Flying Corp...|\"AVID FLYER \"\"C\"\"\"|            N|                  0|   Electric|               091|    NSCH|             ADRP|\"AGRICOLA DE SERV...|                   0|                     0|                   0|                 0|              IMC|             Approach|\\v\\vThe improperl...| a subsequent los...|\n",
      "|    max|the return to ser...|            Incident|          WPR22LA069| 30-04-2021|     �vora, Portugal|            Zimbabwe|            9.956944|            9.966667|                 xxx|�vora Airport|    Unavailable|        Unknown|     Weight-Shift|              unreg|             unknown|           unknown|          Yes|                  8|    Unknown|           Unknown|     UNK|          Unknown|� M/s Jindal Stee...|                 349|                   161|                 380|               699|              VMC|              Unknown|unexpected encoun...|          31-12-2021|\n",
      "+-------+--------------------+--------------------+--------------------+-----------+--------------------+--------------------+--------------------+--------------------+--------------------+-------------+---------------+---------------+-----------------+-------------------+--------------------+------------------+-------------+-------------------+-----------+------------------+--------+-----------------+--------------------+--------------------+----------------------+--------------------+------------------+-----------------+---------------------+--------------------+--------------------+\n",
      "\n"
     ]
    }
   ],
   "source": [
    " df_spypark.describe().show()"
   ]
  },
  {
   "cell_type": "code",
   "execution_count": 47,
   "id": "4e7e5748",
   "metadata": {},
   "outputs": [
    {
     "data": {
      "text/plain": [
       "pyspark.sql.dataframe.DataFrame"
      ]
     },
     "execution_count": 47,
     "metadata": {},
     "output_type": "execute_result"
    }
   ],
   "source": [
    "type(df_spypark)"
   ]
  },
  {
   "cell_type": "code",
   "execution_count": 48,
   "id": "831cee9a",
   "metadata": {},
   "outputs": [],
   "source": [
    "df_spark2 = (df_spypark\n",
    ".withColumnRenamed(\"Event.Id\",\"Event_Id\")      \n",
    ".withColumnRenamed(\"Investigation.Type\",\"Investigation_Type\")  \n",
    ".withColumnRenamed(\"Accident.Number\",\"Accident_Number\") \n",
    ".withColumnRenamed(\"Event.Date\",\"Event_Date\")  \n",
    ".withColumnRenamed(\"Airport.Code\",\"Airport_Code\") \n",
    ".withColumnRenamed(\"Airport.Name\",\"Airport_Name\")  \n",
    ".withColumnRenamed(\"Injury.Severity\",\"Injury_Severity\") \n",
    ".withColumnRenamed(\"Aircraft.damage\",\"Aircraft_damage\") \n",
    ".withColumnRenamed(\"Aircraft.Category\",\"Aircraft_Category\")  \n",
    ".withColumnRenamed(\"Registration.Number\",\"Registration_Number\")  \n",
    ".withColumnRenamed(\"Amateur.Built\",\"Amateur_Built\")  \n",
    ".withColumnRenamed(\"Number.of.Engines\",\"Number_of_Engines\")  \n",
    ".withColumnRenamed(\"Engine.Type\",\"Engine_Type\")  \n",
    ".withColumnRenamed(\"FAR.Description\",\"FAR_Description\") \n",
    ".withColumnRenamed(\"Purpose.of.flight\",\"Purpose_of_flight\") \n",
    ".withColumnRenamed(\"Air.carrier\",\"Air_carrier\") \n",
    ".withColumnRenamed(\"Total.Fatal.Injuries\",\"Total_Fatal_Injuries\") \n",
    ".withColumnRenamed(\"Total.Serious.Injuries\",\"Total_Serious_Injuries\") \n",
    ".withColumnRenamed(\"Total.Minor.Injuries\",\"Total_Minor_Injuries\") \n",
    ".withColumnRenamed(\"Total.Uninjured\",\"Total_Uninjured\") \n",
    ".withColumnRenamed(\"Weather.Condition\",\"Weather_Condition\") \n",
    ".withColumnRenamed(\"Broad.phase.of.flight\",\"Broad_phase_of_flight\") \n",
    ".withColumnRenamed(\"Report.Status\",\"Report_Status\") \n",
    ".withColumnRenamed(\"Publication.Date\",\"Publication_Date\"))\n"
   ]
  },
  {
   "cell_type": "code",
   "execution_count": 49,
   "id": "6b27fab5",
   "metadata": {},
   "outputs": [
    {
     "name": "stdout",
     "output_type": "stream",
     "text": [
      "root\n",
      " |-- Event_Id: string (nullable = true)\n",
      " |-- Investigation_Type: string (nullable = true)\n",
      " |-- Accident_Number: string (nullable = true)\n",
      " |-- Event_Date: string (nullable = true)\n",
      " |-- Location: string (nullable = true)\n",
      " |-- Country: string (nullable = true)\n",
      " |-- Latitude: string (nullable = true)\n",
      " |-- Longitude: string (nullable = true)\n",
      " |-- Airport_Code: string (nullable = true)\n",
      " |-- Airport_Name: string (nullable = true)\n",
      " |-- Injury_Severity: string (nullable = true)\n",
      " |-- Aircraft_damage: string (nullable = true)\n",
      " |-- Aircraft_Category: string (nullable = true)\n",
      " |-- Registration_Number: string (nullable = true)\n",
      " |-- Make: string (nullable = true)\n",
      " |-- Model: string (nullable = true)\n",
      " |-- Amateur_Built: string (nullable = true)\n",
      " |-- Number_of_Engines: integer (nullable = true)\n",
      " |-- Engine_Type: string (nullable = true)\n",
      " |-- FAR_Description: string (nullable = true)\n",
      " |-- Schedule: string (nullable = true)\n",
      " |-- Purpose_of_flight: string (nullable = true)\n",
      " |-- Air_carrier: string (nullable = true)\n",
      " |-- Total_Fatal_Injuries: integer (nullable = true)\n",
      " |-- Total_Serious_Injuries: integer (nullable = true)\n",
      " |-- Total_Minor_Injuries: integer (nullable = true)\n",
      " |-- Total_Uninjured: integer (nullable = true)\n",
      " |-- Weather_Condition: string (nullable = true)\n",
      " |-- Broad_phase_of_flight: string (nullable = true)\n",
      " |-- Report_Status: string (nullable = true)\n",
      " |-- Publication_Date: string (nullable = true)\n",
      "\n"
     ]
    }
   ],
   "source": [
    "df_spark2.printSchema()"
   ]
  },
  {
   "cell_type": "code",
   "execution_count": 50,
   "id": "fb489a37",
   "metadata": {},
   "outputs": [
    {
     "name": "stdout",
     "output_type": "stream",
     "text": [
      "+--------+------------------+---------------+----------+--------+-------+--------+---------+------------+------------+---------------+---------------+-----------------+-------------------+----+-----+-------------+-----------------+-----------+---------------+--------+-----------------+-----------+--------------------+----------------------+--------------------+---------------+-----------------+---------------------+-------------+----------------+\n",
      "|Event_Id|Investigation_Type|Accident_Number|Event_Date|Location|Country|Latitude|Longitude|Airport_Code|Airport_Name|Injury_Severity|Aircraft_damage|Aircraft_Category|Registration_Number|Make|Model|Amateur_Built|Number_of_Engines|Engine_Type|FAR_Description|Schedule|Purpose_of_flight|Air_carrier|Total_Fatal_Injuries|Total_Serious_Injuries|Total_Minor_Injuries|Total_Uninjured|Weather_Condition|Broad_phase_of_flight|Report_Status|Publication_Date|\n",
      "+--------+------------------+---------------+----------+--------+-------+--------+---------+------------+------------+---------------+---------------+-----------------+-------------------+----+-----+-------------+-----------------+-----------+---------------+--------+-----------------+-----------+--------------------+----------------------+--------------------+---------------+-----------------+---------------------+-------------+----------------+\n",
      "|       0|              5331|           5388|      5415|    5483|   5663|   59647|    59658|       43184|       40670|           6326|           8453|            61942|               6760|5505| 5532|         5545|            11192|      11334|          62267|   80395|            11232|      76752|               16844|                 17953|               17376|          11355|             9421|                31001|        10654|           24439|\n",
      "+--------+------------------+---------------+----------+--------+-------+--------+---------+------------+------------+---------------+---------------+-----------------+-------------------+----+-----+-------------+-----------------+-----------+---------------+--------+-----------------+-----------+--------------------+----------------------+--------------------+---------------+-----------------+---------------------+-------------+----------------+\n",
      "\n"
     ]
    }
   ],
   "source": [
    "from pyspark.sql.functions import *\n",
    "df_spark2.select([count(when(isnull(c), c)).alias(c) for c in df_spark2.columns]).show()"
   ]
  },
  {
   "cell_type": "markdown",
   "id": "08e85b7f",
   "metadata": {},
   "source": [
    "# Feature Engineering\n",
    "## single vector combining all input features, by using Spark’s VectorAssembler"
   ]
  },
  {
   "cell_type": "code",
   "execution_count": 51,
   "id": "f9e61d09",
   "metadata": {},
   "outputs": [],
   "source": [
    "df_sparktemp = df_spark2.select(year(col(\"Event_Date\")).alias(\"year\"))\n",
    "\n",
    "df_spark4=df_sparktemp.na.drop(\"all\")\n",
    "\n",
    "from pyspark.sql.functions import *\n",
    "\n",
    "\n",
    "df_linear_convert=df_spark4.groupBy(\"year\").count()\n",
    "\n",
    "#df_linear_convert.sort(\"year\").show(truncate=False)"
   ]
  },
  {
   "cell_type": "code",
   "execution_count": 52,
   "id": "2b6469c3",
   "metadata": {},
   "outputs": [
    {
     "name": "stdout",
     "output_type": "stream",
     "text": [
      "+----+-----+\n",
      "|year|count|\n",
      "+----+-----+\n",
      "|1948|1    |\n",
      "|1962|1    |\n",
      "|1974|1    |\n",
      "|1977|1    |\n",
      "|1979|2    |\n",
      "|1981|1    |\n",
      "|1982|3593 |\n",
      "|1983|3556 |\n",
      "|1984|3457 |\n",
      "|1985|3096 |\n",
      "|1986|2880 |\n",
      "|1987|2828 |\n",
      "|1988|2730 |\n",
      "|1989|2544 |\n",
      "|1990|2518 |\n",
      "|1991|2462 |\n",
      "|1992|2355 |\n",
      "|1993|2313 |\n",
      "|1994|2257 |\n",
      "|1995|2309 |\n",
      "+----+-----+\n",
      "only showing top 20 rows\n",
      "\n"
     ]
    }
   ],
   "source": [
    "df_linear_convert.sort(\"year\").show(truncate=False)"
   ]
  },
  {
   "cell_type": "code",
   "execution_count": 53,
   "id": "c1ca17fe",
   "metadata": {},
   "outputs": [
    {
     "name": "stdout",
     "output_type": "stream",
     "text": [
      "root\n",
      " |-- year: integer (nullable = true)\n",
      " |-- count: long (nullable = false)\n",
      "\n"
     ]
    }
   ],
   "source": [
    "df_linear_convert.printSchema()"
   ]
  },
  {
   "cell_type": "code",
   "execution_count": 54,
   "id": "51ec3ddf",
   "metadata": {},
   "outputs": [],
   "source": [
    "#### Drop rows with conditions – where clause\n",
    " \n",
    "df_linearreg=df_linear_convert.where(\"count > 2\")"
   ]
  },
  {
   "cell_type": "code",
   "execution_count": 55,
   "id": "5c0f99be",
   "metadata": {},
   "outputs": [
    {
     "name": "stdout",
     "output_type": "stream",
     "text": [
      "+----+-----+\n",
      "|year|count|\n",
      "+----+-----+\n",
      "|1982|3593 |\n",
      "|1983|3556 |\n",
      "|1984|3457 |\n",
      "|1985|3096 |\n",
      "|1986|2880 |\n",
      "|1987|2828 |\n",
      "|1988|2730 |\n",
      "|1989|2544 |\n",
      "|1990|2518 |\n",
      "|1991|2462 |\n",
      "|1992|2355 |\n",
      "|1993|2313 |\n",
      "|1994|2257 |\n",
      "|1995|2309 |\n",
      "|1996|2187 |\n",
      "|1997|2148 |\n",
      "|1998|2226 |\n",
      "|1999|2209 |\n",
      "|2000|2220 |\n",
      "|2001|2063 |\n",
      "+----+-----+\n",
      "only showing top 20 rows\n",
      "\n"
     ]
    }
   ],
   "source": [
    "df_linearreg.sort(\"year\").show(truncate=False)"
   ]
  },
  {
   "cell_type": "code",
   "execution_count": 56,
   "id": "541af479",
   "metadata": {},
   "outputs": [
    {
     "name": "stdout",
     "output_type": "stream",
     "text": [
      "+-------------------+\n",
      "|  corr(year, count)|\n",
      "+-------------------+\n",
      "|-0.9295357371309958|\n",
      "+-------------------+\n",
      "\n"
     ]
    }
   ],
   "source": [
    "#import corr function from pyspark functions\n",
    "from pyspark.sql.functions import corr\n",
    "# check for correlation\n",
    "df_linearreg.select(corr('year','count')).show()"
   ]
  },
  {
   "cell_type": "code",
   "execution_count": 57,
   "id": "1a83cb8c",
   "metadata": {},
   "outputs": [
    {
     "name": "stdout",
     "output_type": "stream",
     "text": [
      "+----+-----+\n",
      "|year|label|\n",
      "+----+-----+\n",
      "|1990| 2518|\n",
      "|1988| 2730|\n",
      "|1991| 2462|\n",
      "|1982| 3593|\n",
      "|1989| 2544|\n",
      "|1985| 3096|\n",
      "|1987| 2828|\n",
      "|1992| 2355|\n",
      "|1983| 3556|\n",
      "|1984| 3457|\n",
      "|1986| 2880|\n",
      "|2003| 2085|\n",
      "|2006| 1851|\n",
      "|1997| 2148|\n",
      "|1994| 2257|\n",
      "|2004| 1952|\n",
      "|1996| 2187|\n",
      "|1998| 2226|\n",
      "|1995| 2309|\n",
      "|2001| 2063|\n",
      "+----+-----+\n",
      "only showing top 20 rows\n",
      "\n"
     ]
    }
   ],
   "source": [
    "df_linearreg2 = (df_linearreg\n",
    ".withColumnRenamed(\"count\",\"label\")  )\n",
    "df_linearreg2.show()"
   ]
  },
  {
   "cell_type": "code",
   "execution_count": 58,
   "id": "64a9b9b8",
   "metadata": {},
   "outputs": [
    {
     "name": "stdout",
     "output_type": "stream",
     "text": [
      "+--------+-----+\n",
      "|features|label|\n",
      "+--------+-----+\n",
      "|[1990.0]| 2518|\n",
      "|[1988.0]| 2730|\n",
      "|[1991.0]| 2462|\n",
      "+--------+-----+\n",
      "only showing top 3 rows\n",
      "\n"
     ]
    }
   ],
   "source": [
    "from pyspark.ml.feature import VectorAssembler\n",
    "vectorAssembler = VectorAssembler(inputCols = ['year'], outputCol = 'features')\n",
    "mlpred_df = vectorAssembler.transform(df_linearreg2)\n",
    "mlpred_df = mlpred_df.select(['features', 'label'])\n",
    "mlpred_df.show(3)"
   ]
  },
  {
   "cell_type": "code",
   "execution_count": 59,
   "id": "21accfbb",
   "metadata": {},
   "outputs": [],
   "source": [
    "splits = mlpred_df.randomSplit([0.8, 0.2])\n",
    "train_df = splits[0]\n",
    "test_df = splits[1]"
   ]
  },
  {
   "cell_type": "code",
   "execution_count": 60,
   "id": "89cb4f28",
   "metadata": {},
   "outputs": [
    {
     "name": "stdout",
     "output_type": "stream",
     "text": [
      "Coefficients: [-47.58048509559402]\n",
      "Intercept: 97430.31668026459\n"
     ]
    }
   ],
   "source": [
    "from pyspark.ml.regression import LinearRegression\n",
    "lr = LinearRegression(featuresCol = 'features', labelCol='label', maxIter=10, regParam=0.3, elasticNetParam=0.8)\n",
    "lr_model = lr.fit(train_df)\n",
    "print(\"Coefficients: \" + str(lr_model.coefficients))\n",
    "print(\"Intercept: \" + str(lr_model.intercept))"
   ]
  },
  {
   "cell_type": "code",
   "execution_count": 61,
   "id": "205e5c4e",
   "metadata": {},
   "outputs": [
    {
     "name": "stdout",
     "output_type": "stream",
     "text": [
      "MSE:  40440.40647392087\n",
      "MAE:  157.30657705227713\n",
      "R-squared:  0.8838106922172848\n",
      "RMSE:  201.09800216292768\n"
     ]
    }
   ],
   "source": [
    "print(\"MSE: \", lr_model.summary.meanSquaredError)\n",
    "print(\"MAE: \", lr_model.summary.meanAbsoluteError)\n",
    "print(\"R-squared: \", lr_model.summary.r2)\n",
    "print(\"RMSE: \", lr_model.summary.rootMeanSquaredError)\n"
   ]
  },
  {
   "cell_type": "code",
   "execution_count": 62,
   "id": "9ab8beb6",
   "metadata": {},
   "outputs": [
    {
     "name": "stdout",
     "output_type": "stream",
     "text": [
      "+--------+-----+------------------+\n",
      "|features|label|        prediction|\n",
      "+--------+-----+------------------+\n",
      "|[1982.0]| 3593| 3125.795220797241|\n",
      "|[1983.0]| 3556|3078.2147357016365|\n",
      "|[1984.0]| 3457|3030.6342506060464|\n",
      "+--------+-----+------------------+\n",
      "only showing top 3 rows\n",
      "\n"
     ]
    }
   ],
   "source": [
    "mdata = lr_model.transform(train_df)\n",
    "mdata.show(3) "
   ]
  },
  {
   "cell_type": "code",
   "execution_count": 63,
   "id": "1961775b",
   "metadata": {},
   "outputs": [
    {
     "data": {
      "text/plain": [
       "DenseVector([-47.6059])"
      ]
     },
     "execution_count": 63,
     "metadata": {},
     "output_type": "execute_result"
    }
   ],
   "source": [
    "#Generalized Linear Model Regression\n",
    "from pyspark.ml.regression import GeneralizedLinearRegression\n",
    "from pyspark.ml.evaluation import RegressionEvaluator\n",
    "glr = GeneralizedLinearRegression()\n",
    "glr_model = glr.fit(train_df)\n",
    "glr_model.coefficients"
   ]
  },
  {
   "cell_type": "code",
   "execution_count": 64,
   "id": "c015ef61",
   "metadata": {},
   "outputs": [
    {
     "data": {
      "text/plain": [
       "Coefficients:\n",
       "    Feature   Estimate Std Error  T Value P Value\n",
       "(Intercept) 97481.2401 6308.5169  15.4523  0.0000\n",
       "       year   -47.6059    3.1514 -15.1063  0.0000\n",
       "\n",
       "(Dispersion parameter for gaussian family taken to be 43136.3399)\n",
       "   Null deviance: 11137797.7188 on 30 degrees of freedom\n",
       "Residual deviance: 1294090.1963 on 30 degrees of freedom\n",
       "AIC: 436.2547"
      ]
     },
     "execution_count": 64,
     "metadata": {},
     "output_type": "execute_result"
    }
   ],
   "source": [
    "glr_model.summary"
   ]
  },
  {
   "cell_type": "code",
   "execution_count": 65,
   "id": "54b31047",
   "metadata": {},
   "outputs": [
    {
     "name": "stdout",
     "output_type": "stream",
     "text": [
      "RMSE :  230.26217956694362\n",
      "MAE :  212.57347778194344\n",
      "R2 :  0.5828981961983011\n",
      "MSE :  53020.67133891938\n"
     ]
    }
   ],
   "source": [
    "from pyspark.ml.feature import VectorAssembler\n",
    "t_data = glr_model.transform(test_df)\n",
    "rmse = RegressionEvaluator(labelCol=\"label\", predictionCol=\"prediction\", metricName=\"rmse\")\n",
    "rmse = rmse.evaluate(t_data)\n",
    "mae = RegressionEvaluator(labelCol=\"label\", predictionCol=\"prediction\", metricName=\"mae\")\n",
    "mae = mae.evaluate(t_data)\n",
    "mse = RegressionEvaluator(labelCol=\"label\", predictionCol=\"prediction\", metricName=\"mse\")\n",
    "mse = mse.evaluate(t_data)\n",
    "r2 = RegressionEvaluator(labelCol=\"label\", predictionCol=\"prediction\", metricName=\"r2\")\n",
    "r2 = r2.evaluate(t_data)\n",
    "\n",
    "print(\"RMSE : \", rmse)\n",
    "print(\"MAE : \", mae)\n",
    "print(\"R2 : \", r2)\n",
    "print(\"MSE : \", mse)"
   ]
  },
  {
   "cell_type": "code",
   "execution_count": 66,
   "id": "f0dd9fa5",
   "metadata": {},
   "outputs": [
    {
     "name": "stderr",
     "output_type": "stream",
     "text": [
      "C:\\Program Files\\Spark\\spark-3.2.2-bin-hadoop3.2\\python\\pyspark\\sql\\context.py:125: FutureWarning: Deprecated in 3.0.0. Use SparkSession.builder.getOrCreate() instead.\n",
      "  warnings.warn(\n"
     ]
    },
    {
     "name": "stdout",
     "output_type": "stream",
     "text": [
      "+--------+-----+------------------+\n",
      "|features|label|        prediction|\n",
      "+--------+-----+------------------+\n",
      "|[1987.0]| 2828| 2888.268815970747|\n",
      "|[1992.0]| 2355|2650.2391953463957|\n",
      "|[1994.0]| 2257| 2555.027347096664|\n",
      "|[1996.0]| 2187|2459.8154988469178|\n",
      "|[1998.0]| 2226|2364.6036505971715|\n",
      "|[1999.0]| 2209| 2316.997726472313|\n",
      "|[2018.0]| 1681|1412.4851680997672|\n",
      "|[2019.0]| 1624| 1364.879243974894|\n",
      "+--------+-----+------------------+\n",
      "\n"
     ]
    }
   ],
   "source": [
    "model_predictions=glr_model.evaluate(test_df)\n",
    "model_predictions.predictions.show()"
   ]
  },
  {
   "cell_type": "code",
   "execution_count": 67,
   "id": "39db078e",
   "metadata": {},
   "outputs": [
    {
     "data": {
      "text/plain": [
       "115.73051366532923"
      ]
     },
     "execution_count": 67,
     "metadata": {},
     "output_type": "execute_result"
    }
   ],
   "source": [
    " model_predictions.aic"
   ]
  },
  {
   "cell_type": "markdown",
   "id": "5ca9d525",
   "metadata": {},
   "source": [
    "## Predicting Aircrash Damage with Decision Tree. ##\n"
   ]
  },
  {
   "cell_type": "code",
   "execution_count": 68,
   "id": "b7eeebd3",
   "metadata": {},
   "outputs": [
    {
     "name": "stdout",
     "output_type": "stream",
     "text": [
      "+--------+-----+----------+\n",
      "|features|label|prediction|\n",
      "+--------+-----+----------+\n",
      "|[1987.0]|2828 |2880.0    |\n",
      "|[1992.0]|2355 |2462.0    |\n",
      "|[1994.0]|2257 |2313.0    |\n",
      "|[1996.0]|2187 |2309.0    |\n",
      "|[1998.0]|2226 |2148.0    |\n",
      "|[1999.0]|2209 |2220.0    |\n",
      "|[2018.0]|1681 |1651.0    |\n",
      "|[2019.0]|1624 |1392.0    |\n",
      "+--------+-----+----------+\n",
      "\n"
     ]
    }
   ],
   "source": [
    "from pyspark.ml.regression import DecisionTreeRegressor\n",
    "from pyspark.ml.evaluation import RegressionEvaluator\n",
    "dt = DecisionTreeRegressor()\n",
    "model = dt.fit(train_df)\n",
    "test_dt = model.transform(test_df)\n",
    "test_dt.show(truncate=False)"
   ]
  },
  {
   "cell_type": "code",
   "execution_count": 69,
   "id": "104e0dae",
   "metadata": {},
   "outputs": [
    {
     "name": "stdout",
     "output_type": "stream",
     "text": [
      "0.9084484146538883\n",
      "11637.750000000002\n",
      "107.8784037701708\n",
      "86.0\n"
     ]
    }
   ],
   "source": [
    "from pyspark.ml.evaluation import RegressionEvaluator\n",
    "evaluator = RegressionEvaluator()\n",
    "print(evaluator.evaluate(test_dt,\n",
    "{evaluator.metricName: \"r2\"})\n",
    ")\n",
    "print(evaluator.evaluate(test_dt,\n",
    "{evaluator.metricName: \"mse\"})\n",
    ")\n",
    "print(evaluator.evaluate(test_dt,\n",
    "{evaluator.metricName: \"rmse\"})\n",
    ")\n",
    "print(evaluator.evaluate(test_dt,\n",
    "{evaluator.metricName: \"mae\"})\n",
    ")"
   ]
  },
  {
   "cell_type": "markdown",
   "id": "b7110cf7",
   "metadata": {},
   "source": [
    "## Using gradient Boosting for Regression ##"
   ]
  },
  {
   "cell_type": "code",
   "execution_count": 70,
   "id": "9b432b40",
   "metadata": {},
   "outputs": [],
   "source": [
    "from pyspark import SparkContext\n",
    "from pyspark.sql import SQLContext\n",
    "from pyspark.ml.feature import VectorAssembler\n",
    "from pyspark.ml.regression import GBTRegressor\n",
    "from pyspark.ml.evaluation import RegressionEvaluator\n",
    "import matplotlib.pyplot as plt\n"
   ]
  },
  {
   "cell_type": "code",
   "execution_count": 71,
   "id": "2fbbed48",
   "metadata": {},
   "outputs": [],
   "source": [
    "gbtr = GBTRegressor(featuresCol='features', labelCol='label', maxIter=10)\n",
    "gbtr = gbtr.fit(train_df)"
   ]
  },
  {
   "cell_type": "code",
   "execution_count": 72,
   "id": "3d013a05",
   "metadata": {},
   "outputs": [
    {
     "name": "stdout",
     "output_type": "stream",
     "text": [
      "+--------+-----+------------------+\n",
      "|features|label|        prediction|\n",
      "+--------+-----+------------------+\n",
      "|[1987.0]| 2828|2879.4675942741333|\n",
      "|[1992.0]| 2355|2461.4675942741333|\n",
      "|[1994.0]| 2257|2312.4675942741333|\n",
      "+--------+-----+------------------+\n",
      "only showing top 3 rows\n",
      "\n",
      "RMSE:  108.25269680570983\n",
      "MAE:  87.11474107306668\n",
      "R-squared:  0.9078120209756091\n",
      "MSE : 11718.646365708939\n"
     ]
    }
   ],
   "source": [
    "mdata = gbtr.transform(test_df)\n",
    "mdata.show(3)\n",
    " \n",
    "rmse=RegressionEvaluator(labelCol=\"label\", predictionCol=\"prediction\", metricName=\"rmse\")\n",
    "rmse=rmse.evaluate(mdata) \n",
    " \n",
    "mae=RegressionEvaluator(labelCol=\"label\", predictionCol=\"prediction\", metricName=\"mae\")\n",
    "mae=mae.evaluate(mdata) \n",
    " \n",
    "r2=RegressionEvaluator(labelCol=\"label\", predictionCol=\"prediction\", metricName=\"r2\")\n",
    "r2=r2.evaluate(mdata)\n",
    "\n",
    "mse=RegressionEvaluator(labelCol=\"label\", predictionCol=\"prediction\", metricName=\"mse\")\n",
    "mse=mse.evaluate(mdata)\n",
    "\n",
    "print(\"RMSE: \", rmse)\n",
    "print(\"MAE: \", mae)\n",
    "print(\"R-squared: \", r2)\n",
    "print(\"MSE :\", mse)"
   ]
  },
  {
   "cell_type": "code",
   "execution_count": 73,
   "id": "437f1fba",
   "metadata": {},
   "outputs": [
    {
     "data": {
      "image/png": "[encoded data removed]",
      "text/plain": [
       "<Figure size 432x288 with 1 Axes>"
      ]
     },
     "metadata": {
      "needs_background": "light"
     },
     "output_type": "display_data"
    }
   ],
   "source": [
    "x_ax = range(0, mdata.count())\n",
    "y_pred=mdata.select(\"prediction\").collect()\n",
    "y_orig=mdata.select(\"label\").collect()\n",
    "\n",
    "plt.plot(x_ax, y_orig, label=\"original\")\n",
    "plt.plot(x_ax, y_pred, label=\"predicted\")\n",
    "plt.title(\"Airspace Accident By Year\")\n",
    "plt.xlabel('X-axis')\n",
    "plt.ylabel('Y-axis')\n",
    "plt.legend(loc='best',fancybox=True, shadow=True)\n",
    "plt.grid(True)\n",
    "plt.show() \n",
    " "
   ]
  },
  {
   "cell_type": "code",
   "execution_count": 74,
   "id": "a5503d72",
   "metadata": {},
   "outputs": [],
   "source": [
    "# Stop session \n",
    "spark.stop()  "
   ]
  },
  {
   "cell_type": "code",
   "execution_count": null,
   "id": "deb4b469",
   "metadata": {},
   "outputs": [],
   "source": []
  }
 ],
 "metadata": {
  "kernelspec": {
   "display_name": "Python 3 (ipykernel)",
   "language": "python",
   "name": "python3"
  },
  "language_info": {
   "codemirror_mode": {
    "name": "ipython",
    "version": 3
   },
   "file_extension": ".py",
   "mimetype": "text/x-python",
   "name": "python",
   "nbconvert_exporter": "python",
   "pygments_lexer": "ipython3",
   "version": "3.9.12"
  }
 },
 "nbformat": 4,
 "nbformat_minor": 5
}
